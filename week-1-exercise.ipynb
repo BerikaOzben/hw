{
 "cells": [
  {
   "cell_type": "markdown",
   "metadata": {},
   "source": [
    "## Week 1"
   ]
  },
  {
   "cell_type": "markdown",
   "metadata": {},
   "source": [
    "### Exercise 1:\n",
    "Write a function that receives a list as parameter and return how many elements it has; if it doesn't have any element return an error."
   ]
  },
  {
   "cell_type": "markdown",
   "metadata": {},
   "source": [
    "#### Solution 1:"
   ]
  },
  {
   "cell_type": "code",
   "execution_count": 30,
   "metadata": {},
   "outputs": [],
   "source": [
    "def check_list(my_list):\n",
    "    if type(my_list) is list and len(my_list) > 0:\n",
    "        number_of_elements = len(my_list)\n",
    "        print(f\"There are {number_of_elements} elements in the list.\")    \n",
    "    else:\n",
    "        print(\"Error\")"
   ]
  },
  {
   "cell_type": "code",
   "execution_count": 31,
   "metadata": {},
   "outputs": [
    {
     "name": "stdout",
     "output_type": "stream",
     "text": [
      "There are 8 elements in the list.\n"
     ]
    }
   ],
   "source": [
    "my_list = [1, \"a\", 2.5, True, [3, \"yedi\"], (\"pink\", 5), {1, \"a\", 2.5}, {\"key\" : \"value\"}]\n",
    "check_list(my_list)"
   ]
  },
  {
   "cell_type": "code",
   "execution_count": 32,
   "metadata": {},
   "outputs": [
    {
     "name": "stdout",
     "output_type": "stream",
     "text": [
      "Error\n"
     ]
    }
   ],
   "source": [
    "my_list = []\n",
    "check_list(my_list)"
   ]
  },
  {
   "cell_type": "markdown",
   "metadata": {},
   "source": [
    "### Exercise 2:\n",
    "Write a function that receives a string as parameter and return the number of each character in it."
   ]
  },
  {
   "cell_type": "code",
   "execution_count": 33,
   "metadata": {},
   "outputs": [],
   "source": [
    "def count_character(my_str):\n",
    "    result={}\n",
    "    for character in my_str:\n",
    "        if character not in result:\n",
    "            counter = my_str.count(character)\n",
    "            result.update({character:counter})\n",
    "    return result"
   ]
  },
  {
   "cell_type": "code",
   "execution_count": 34,
   "metadata": {},
   "outputs": [
    {
     "data": {
      "text/plain": [
       "{'D': 1, 'a': 2, 't': 1, ' ': 1, 'S': 1, 'c': 2, 'i': 1, 'e': 2, 'n': 1}"
      ]
     },
     "execution_count": 34,
     "metadata": {},
     "output_type": "execute_result"
    }
   ],
   "source": [
    "my_str = \"Data Science\"\n",
    "count_character(my_str)"
   ]
  },
  {
   "cell_type": "code",
   "execution_count": 35,
   "metadata": {},
   "outputs": [],
   "source": [
    "from collections import Counter\n",
    "\n",
    "def string_char(my_string):\n",
    "    result = Counter(my_string).most_common(len(my_string))\n",
    "    return result"
   ]
  },
  {
   "cell_type": "code",
   "execution_count": 36,
   "metadata": {},
   "outputs": [
    {
     "data": {
      "text/plain": [
       "[(' ', 17),\n",
       " ('e', 11),\n",
       " ('r', 10),\n",
       " ('t', 10),\n",
       " ('a', 10),\n",
       " ('n', 7),\n",
       " ('i', 6),\n",
       " ('c', 5),\n",
       " ('h', 4),\n",
       " ('u', 3),\n",
       " ('s', 3),\n",
       " ('f', 2),\n",
       " ('o', 2),\n",
       " ('m', 2),\n",
       " ('W', 1),\n",
       " ('v', 1),\n",
       " ('g', 1),\n",
       " ('p', 1),\n",
       " ('d', 1),\n",
       " ('b', 1),\n",
       " ('.', 1)]"
      ]
     },
     "execution_count": 36,
     "metadata": {},
     "output_type": "execute_result"
    }
   ],
   "source": [
    "example = \"Write a function that receives a string as parameter and return the number of each character in it.\"\n",
    "string_char(example)"
   ]
  }
 ],
 "metadata": {
  "kernelspec": {
   "display_name": "Python 3",
   "language": "python",
   "name": "python3"
  },
  "language_info": {
   "codemirror_mode": {
    "name": "ipython",
    "version": 3
   },
   "file_extension": ".py",
   "mimetype": "text/x-python",
   "name": "python",
   "nbconvert_exporter": "python",
   "pygments_lexer": "ipython3",
   "version": "3.11.4"
  }
 },
 "nbformat": 4,
 "nbformat_minor": 2
}
